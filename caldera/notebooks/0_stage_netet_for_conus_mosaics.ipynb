{
 "cells": [
  {
   "cell_type": "code",
   "execution_count": 1,
   "id": "c3ed1c41",
   "metadata": {},
   "outputs": [],
   "source": [
    "import fsspec\n",
    "import s3fs"
   ]
  },
  {
   "cell_type": "code",
   "execution_count": 2,
   "id": "37a29c8d",
   "metadata": {},
   "outputs": [],
   "source": [
    "fs = fsspec.filesystem('s3', anon=False, requester_pays=True)"
   ]
  },
  {
   "cell_type": "code",
   "execution_count": 3,
   "id": "671b2557",
   "metadata": {},
   "outputs": [],
   "source": [
    "dirs = fs.ls('ws-enduser/CONUS')"
   ]
  },
  {
   "cell_type": "code",
   "execution_count": 4,
   "id": "acfd8161",
   "metadata": {},
   "outputs": [
    {
     "data": {
      "text/plain": [
       "['ws-enduser/CONUS/conus_mos',\n",
       " 'ws-enduser/CONUS/r37.0_tile0',\n",
       " 'ws-enduser/CONUS/r37.0_tile1',\n",
       " 'ws-enduser/CONUS/r37.0_tile2',\n",
       " 'ws-enduser/CONUS/r37.0_tile3',\n",
       " 'ws-enduser/CONUS/r50.0_tile5',\n",
       " 'ws-enduser/CONUS/r50.0_tile6',\n",
       " 'ws-enduser/CONUS/r50.0_tile7',\n",
       " 'ws-enduser/CONUS/r50.0_tile8',\n",
       " 'ws-enduser/CONUS/r50.0_tile9']"
      ]
     },
     "execution_count": 4,
     "metadata": {},
     "output_type": "execute_result"
    }
   ],
   "source": [
    "dirs"
   ]
  },
  {
   "cell_type": "code",
   "execution_count": 5,
   "id": "c956e8b4",
   "metadata": {},
   "outputs": [
    {
     "name": "stdout",
     "output_type": "stream",
     "text": [
      "      Name                    Value             Type    Location\r\n",
      "      ----                    -----             ----    --------\r\n",
      "   profile                <not set>             None    None\r\n",
      "access_key     ****************7NDZ         iam-role    \r\n",
      "secret_key     ****************1yRp         iam-role    \r\n",
      "    region                <not set>             None    None\r\n"
     ]
    }
   ],
   "source": [
    "! aws configure list"
   ]
  },
  {
   "cell_type": "code",
   "execution_count": 6,
   "id": "dc8b179b",
   "metadata": {},
   "outputs": [
    {
     "data": {
      "text/plain": [
       "['ws-enduser/CONUS/conus_mos',\n",
       " 'ws-enduser/CONUS/r37.0_tile0',\n",
       " 'ws-enduser/CONUS/r37.0_tile1',\n",
       " 'ws-enduser/CONUS/r37.0_tile2',\n",
       " 'ws-enduser/CONUS/r37.0_tile3',\n",
       " 'ws-enduser/CONUS/r50.0_tile5',\n",
       " 'ws-enduser/CONUS/r50.0_tile6',\n",
       " 'ws-enduser/CONUS/r50.0_tile7',\n",
       " 'ws-enduser/CONUS/r50.0_tile8',\n",
       " 'ws-enduser/CONUS/r50.0_tile9']"
      ]
     },
     "execution_count": 6,
     "metadata": {},
     "output_type": "execute_result"
    }
   ],
   "source": [
    "fs = s3fs.S3FileSystem()\n",
    "\n",
    "fs.ls('ws-enduser/CONUS')"
   ]
  },
  {
   "cell_type": "code",
   "execution_count": 7,
   "id": "973a8bc3",
   "metadata": {},
   "outputs": [],
   "source": [
    "#! pip list | grep s3fs"
   ]
  },
  {
   "cell_type": "code",
   "execution_count": 8,
   "id": "f547cc0b",
   "metadata": {},
   "outputs": [],
   "source": [
    "#! ls ~/.aws/config; cat /home/ec2-user/.aws/config"
   ]
  },
  {
   "cell_type": "code",
   "execution_count": 9,
   "id": "1bceace6",
   "metadata": {},
   "outputs": [],
   "source": [
    "#!conda env list"
   ]
  },
  {
   "cell_type": "code",
   "execution_count": 10,
   "id": "101fdcd1",
   "metadata": {},
   "outputs": [],
   "source": [
    "dirs = fs.ls('ws-enduser/CONUS')"
   ]
  },
  {
   "cell_type": "code",
   "execution_count": 11,
   "id": "02cda990",
   "metadata": {},
   "outputs": [
    {
     "data": {
      "text/plain": [
       "['ws-enduser/CONUS/conus_mos',\n",
       " 'ws-enduser/CONUS/r37.0_tile0',\n",
       " 'ws-enduser/CONUS/r37.0_tile1',\n",
       " 'ws-enduser/CONUS/r37.0_tile2',\n",
       " 'ws-enduser/CONUS/r37.0_tile3',\n",
       " 'ws-enduser/CONUS/r50.0_tile5',\n",
       " 'ws-enduser/CONUS/r50.0_tile6',\n",
       " 'ws-enduser/CONUS/r50.0_tile7',\n",
       " 'ws-enduser/CONUS/r50.0_tile8',\n",
       " 'ws-enduser/CONUS/r50.0_tile9']"
      ]
     },
     "execution_count": 11,
     "metadata": {},
     "output_type": "execute_result"
    }
   ],
   "source": [
    "dirs"
   ]
  },
  {
   "cell_type": "code",
   "execution_count": 12,
   "id": "1286e42f",
   "metadata": {},
   "outputs": [],
   "source": [
    "my_tiles = [ x for x in dirs if \"conus_mos\" not in x ]"
   ]
  },
  {
   "cell_type": "code",
   "execution_count": 13,
   "id": "5cf837d0",
   "metadata": {},
   "outputs": [
    {
     "data": {
      "text/plain": [
       "['ws-enduser/CONUS/r37.0_tile0',\n",
       " 'ws-enduser/CONUS/r37.0_tile1',\n",
       " 'ws-enduser/CONUS/r37.0_tile2',\n",
       " 'ws-enduser/CONUS/r37.0_tile3',\n",
       " 'ws-enduser/CONUS/r50.0_tile5',\n",
       " 'ws-enduser/CONUS/r50.0_tile6',\n",
       " 'ws-enduser/CONUS/r50.0_tile7',\n",
       " 'ws-enduser/CONUS/r50.0_tile8',\n",
       " 'ws-enduser/CONUS/r50.0_tile9']"
      ]
     },
     "execution_count": 13,
     "metadata": {},
     "output_type": "execute_result"
    }
   ],
   "source": [
    "my_tiles"
   ]
  },
  {
   "cell_type": "code",
   "execution_count": 14,
   "id": "45a1bb4d",
   "metadata": {},
   "outputs": [],
   "source": [
    "import os\n",
    "def stage_file_obj(the_files, year):\n",
    "    for file_obj in the_files:\n",
    "        tile_id = file_obj.split('/')[2]\n",
    "        print(tile_id)\n",
    "        path2 = f'ws-out/stage_caldera/netet/{tile_id}/{year}/{os.path.basename(file_obj)}'\n",
    "        print (path2)\n",
    "        fs.cp(file_obj, path2)"
   ]
  },
  {
   "cell_type": "code",
   "execution_count": 15,
   "id": "fb172a7d",
   "metadata": {},
   "outputs": [],
   "source": [
    "import re\n",
    "def return_dailys(file_list, product_match, year):\n",
    "    prune_list=[]\n",
    "    expression = '.*' + product_match + str(year) + '[0-9][0-9][0-9].tif$'\n",
    "    for tif in file_list:\n",
    "        match = re.match(expression, tif)\n",
    "        if match:\n",
    "            prune_list.append(tif)\n",
    "    return prune_list"
   ]
  },
  {
   "cell_type": "code",
   "execution_count": null,
   "id": "99c8a17a",
   "metadata": {},
   "outputs": [
    {
     "name": "stdout",
     "output_type": "stream",
     "text": [
      "ws-enduser/CONUS/r37.0_tile0/2000\n",
      "r37.0_tile0\n",
      "ws-out/stage_caldera/netet/r37.0_tile0/2000/netet_2000001.tif\n",
      "r37.0_tile0\n",
      "ws-out/stage_caldera/netet/r37.0_tile0/2000/netet_2000002.tif\n",
      "r37.0_tile0\n",
      "ws-out/stage_caldera/netet/r37.0_tile0/2000/netet_2000003.tif\n",
      "r37.0_tile0\n",
      "ws-out/stage_caldera/netet/r37.0_tile0/2000/netet_2000004.tif\n",
      "r37.0_tile0\n",
      "ws-out/stage_caldera/netet/r37.0_tile0/2000/netet_2000005.tif\n",
      "r37.0_tile0\n",
      "ws-out/stage_caldera/netet/r37.0_tile0/2000/netet_2000006.tif\n",
      "r37.0_tile0\n",
      "ws-out/stage_caldera/netet/r37.0_tile0/2000/netet_2000007.tif\n",
      "r37.0_tile0\n",
      "ws-out/stage_caldera/netet/r37.0_tile0/2000/netet_2000008.tif\n",
      "r37.0_tile0\n",
      "ws-out/stage_caldera/netet/r37.0_tile0/2000/netet_2000009.tif\n",
      "r37.0_tile0\n",
      "ws-out/stage_caldera/netet/r37.0_tile0/2000/netet_2000010.tif\n",
      "r37.0_tile0\n",
      "ws-out/stage_caldera/netet/r37.0_tile0/2000/netet_2000011.tif\n",
      "r37.0_tile0\n",
      "ws-out/stage_caldera/netet/r37.0_tile0/2000/netet_2000012.tif\n",
      "r37.0_tile0\n",
      "ws-out/stage_caldera/netet/r37.0_tile0/2000/netet_2000013.tif\n",
      "r37.0_tile0\n",
      "ws-out/stage_caldera/netet/r37.0_tile0/2000/netet_2000014.tif\n",
      "r37.0_tile0\n",
      "ws-out/stage_caldera/netet/r37.0_tile0/2000/netet_2000015.tif\n",
      "r37.0_tile0\n",
      "ws-out/stage_caldera/netet/r37.0_tile0/2000/netet_2000016.tif\n",
      "r37.0_tile0\n",
      "ws-out/stage_caldera/netet/r37.0_tile0/2000/netet_2000017.tif\n",
      "r37.0_tile0\n",
      "ws-out/stage_caldera/netet/r37.0_tile0/2000/netet_2000018.tif\n",
      "r37.0_tile0\n",
      "ws-out/stage_caldera/netet/r37.0_tile0/2000/netet_2000019.tif\n",
      "r37.0_tile0\n",
      "ws-out/stage_caldera/netet/r37.0_tile0/2000/netet_2000020.tif\n",
      "r37.0_tile0\n",
      "ws-out/stage_caldera/netet/r37.0_tile0/2000/netet_2000021.tif\n",
      "r37.0_tile0\n",
      "ws-out/stage_caldera/netet/r37.0_tile0/2000/netet_2000022.tif\n",
      "r37.0_tile0\n",
      "ws-out/stage_caldera/netet/r37.0_tile0/2000/netet_2000023.tif\n"
     ]
    }
   ],
   "source": [
    "year = '2000'\n",
    "for tile in my_tiles:\n",
    "    pth = f'{tile}/{year}'\n",
    "    print(pth)\n",
    "    all_files = fs.ls(pth)\n",
    "    netet_files = [ x for x in all_files if \"netet_\"  in x ]\n",
    "    netet_files = return_dailys(netet_files, 'netet_', year)\n",
    "    #print('\\n'.join(netet_files))\n",
    "    stage_file_obj(netet_files, year)"
   ]
  },
  {
   "cell_type": "code",
   "execution_count": null,
   "id": "7fa9b366",
   "metadata": {},
   "outputs": [],
   "source": [
    "for file_obj in netet_files:\n",
    "    tile_id = file_obj.split('/')[2]\n",
    "    print(tile_id)"
   ]
  },
  {
   "cell_type": "code",
   "execution_count": null,
   "id": "69e4218e",
   "metadata": {},
   "outputs": [],
   "source": [
    "! aws s3 cp s3://ws-enduser/CONUS/r37.0_tile0/2010/netet_2010099.tif ."
   ]
  },
  {
   "cell_type": "code",
   "execution_count": null,
   "id": "def76d16",
   "metadata": {},
   "outputs": [],
   "source": [
    "! ls -lh netet_2010099.tif"
   ]
  },
  {
   "cell_type": "code",
   "execution_count": null,
   "id": "c8d260d7",
   "metadata": {},
   "outputs": [],
   "source": [
    "!bzip2 netet_2010099.tif"
   ]
  },
  {
   "cell_type": "code",
   "execution_count": null,
   "id": "94c6a599",
   "metadata": {},
   "outputs": [],
   "source": [
    "! ls -lh netet_2010099.*"
   ]
  },
  {
   "cell_type": "code",
   "execution_count": null,
   "id": "d370ba2d",
   "metadata": {},
   "outputs": [],
   "source": [
    "#! aws s3 rm --recur s3://ws-out/stage_caldera/"
   ]
  },
  {
   "cell_type": "code",
   "execution_count": null,
   "id": "f013bb9e",
   "metadata": {},
   "outputs": [],
   "source": []
  }
 ],
 "metadata": {
  "kernelspec": {
   "display_name": "Python 3 (ipykernel)",
   "language": "python",
   "name": "python3"
  },
  "language_info": {
   "codemirror_mode": {
    "name": "ipython",
    "version": 3
   },
   "file_extension": ".py",
   "mimetype": "text/x-python",
   "name": "python",
   "nbconvert_exporter": "python",
   "pygments_lexer": "ipython3",
   "version": "3.9.7"
  }
 },
 "nbformat": 4,
 "nbformat_minor": 5
}
